{
 "cells": [
  {
   "attachments": {},
   "cell_type": "markdown",
   "metadata": {},
   "source": [
    "# CLASS VS OBJEK\n",
    "<img src=\"10.png\">\n",
    "          \n",
    "Struktur data yang bisa kita gunakan untuk mendefinisikan objek yang menyimpan data bersama-sama nilai-nilai dan perilaku (behavior). Kelas adalah suatu entitas yang merupakan bentuk program dari suatu abstraksi untuk permasalahan dunia nyata, dan instans dari class merupakan realisasi dari beberapa objek.\n",
    "\n",
    "class merupakan sebuah objek yang di dalam nya biasanya terdapat beberapa metode yang memang merupakan isi dari sebuah class ini. Class dan metode ini biasa di sembut sebagai OOP atau object oriented programing. Dan OOP ini memang fungsinya untuk memudahkan proses atau kegiatan programing, class ini merupakan sebuah objek yang lebih complex dengan di dalamnya berisi beberapa metode Jadi, kalau metode berisi berbagai code program, maka class berisi beberapa metode.\n",
    "\n",
    "<img src=\"9.png\">\n",
    "\n",
    "Jadi, jika kita analogikan terhadap kehidupan nyata, konsepnya bisa kita analogikan terhadap sebuah ruang kelas. Dimana ruang kelas nya berfungsi sebagai class nya Dan benda - benda yang ada di dalamnya seperti meja, kursi, papan, spidol dan yang lainnya adalah sebuah metode yang bisa kita panggil agar aktif bekerja sesuai fungsinya. Seperti sepidol yang berfungsi untuk menulis.\n",
    "\n",
    "untuk membuat sebuah class ini, harus kita awali dengan sebuah kata kunci. Yaitu “class” yang kemudian di ikuti dengan “nama class nya”.. Dan yang terakhir adalah tanda kurung buka dan tutup serta tanda titik dua “()” dan ‘:’.\n",
    "\n",
    "    class namaClass () :\n",
    "        def methode 1 (self) :\n",
    "            Isi methode\n",
    "        def metodhe 2 (self) :\n",
    "            Isi metodhe\n",
    "        \n",
    "untuk memanggil sebuah class, sama saja seperti layak nya memanggil metodhe Kita cukup menyebutkan nama classnya dengan di akhiri dengan tanda kurung buka dan tutup seperti di bawah ini\n",
    "\n",
    "    namaClass()\n",
    "\n",
    "untuk memanggil metodhenya, kita cukup menggunakan memanggil class yang kemudian di ikuti dengan pemanggilan nama metode yang tersedia di dalam class tersebut dengan di pisahkan oleh tanda titik.\n",
    "\n",
    "    namaClass().namaMetode()\n",
    "\n",
    "kemudian kita panggil metodenya seperti di bawah ini\n",
    "\n",
    "    penampung = namaClass()\n",
    "    penampung.namaMetode()\n",
    "\n",
    "Di dalam sebuah class, terdapat sebuah metode yang namanya sudah di sediakan oleh python Namanya adalah “__init__”. \n",
    "\n",
    "    class namaClass () :\n",
    "        def __init__() :\n",
    "            Isi yang ingin kalian masukkkan\n",
    "        def metode 1 (self) :\n",
    "            Isi metode\n",
    "        def metode 2 (self) :\n",
    "            Isi metode\n",
    "            \n",
    "jika terdapat parameter\n",
    "\n",
    "    class namaClass () :\n",
    "        def __init__(self, parameter) :\n",
    "            Code program yang akan kalian eksekusi pertama kali.\n",
    "        def metode 1 (self, parameter) :\n",
    "            Isi metode\n",
    "        def metode 2 (self) :\n",
    "            Isi metode\n",
    "\n",
    "Dan untuk memanggil sebuah class yang memiliki parameter, tentu kita harus memasukkan sebuah nilai saat pemanggilannya. \n",
    "\n",
    "namaClass(isiNilai)"
   ]
  },
  {
   "cell_type": "code",
   "execution_count": 10,
   "metadata": {},
   "outputs": [
    {
     "name": "stdout",
     "output_type": "stream",
     "text": [
      "4\n",
      "luas = 16\n",
      "volume = 64\n",
      "luas permukaan = 96\n"
     ]
    }
   ],
   "source": [
    "class kubus :\n",
    "    def __init__(self,s):\n",
    "        self.sisi = s\n",
    "        \n",
    "    def tampilkansisi(self):\n",
    "        print (self.sisi)\n",
    "        \n",
    "    def tampilkanluas(self):\n",
    "        print(\"luas =\" ,self.sisi**2)\n",
    "    \n",
    "    def tampilkanvolume(self):\n",
    "        print (\"volume =\" ,self.sisi**3)\n",
    "        \n",
    "    def tampilkanluaspermukaan(self):\n",
    "        print (\"luas permukaan =\" ,6*(self.sisi**2))\n",
    "    \n",
    "kubus1 = kubus(4)\n",
    "kubus1.tampilkansisi()\n",
    "kubus1.tampilkanluas()\n",
    "kubus1.tampilkanvolume()\n",
    "kubus1.tampilkanluaspermukaan()"
   ]
  },
  {
   "cell_type": "markdown",
   "metadata": {},
   "source": [
    "# INHERITANCE\n",
    "\n",
    "<img src=\"6.png\">\n",
    "\n",
    "Inheritance (Pewarisan atau turunan) merupakan sebuah konsep dalam pemrograman yang paling penting, pada inheritance terdapat sebuah proses dimana sebuah class dapat mengakses semua property dan semua method yang terdapat dari class yang lainnya. \n",
    "\n",
    "Jika kita berpikir tentang pewarisan dalam hal biologi, kita dapat memikirkan seorang anak yang mewarisi sifat-sifat tertentu dari orang tua mereka. Artinya, seorang anak dapat mewarisi tinggi atau warna mata orang tua. Anak-anak juga dapat berbagi nama belakang yang sama dengan orang tua mereka.\n",
    "Kelas yang disebut kelas anak atau subclass mewarisi metode dan variabel dari kelas induk atau kelas dasar.\n",
    "\n",
    "<img src=\"8.png\">\n"
   ]
  },
  {
   "cell_type": "code",
   "execution_count": null,
   "metadata": {},
   "outputs": [],
   "source": [
    "class user :\n",
    "    name = \"\"\n",
    "    def __init__ (self,name):\n",
    "        self.nama = name\n",
    "    def printnama(self):\n",
    "        print(\"name =\",self.nama)\n",
    "class programmer(user):\n",
    "    def __init__(self,name):\n",
    "        self.nama = name\n",
    "    def dopython(self):\n",
    "        print(\"programming python\")\n",
    "        \n",
    "brian = user(\"brian\")\n",
    "brian.printnama()\n",
    "diana = programmer(\"diana\")\n",
    "diana.printnama()\n",
    "diana.dopython()\n",
    "\n",
    "#Brian adalah turunan dari Pengguna dan hanya dapat mengakses metode printName. Diana adalah turunan dari Programmer, kelas dengan warisan dari Pengguna, dan dapat mengakses kedua metode dalam Programmer dan Pengguna."
   ]
  },
  {
   "cell_type": "markdown",
   "metadata": {},
   "source": [
    "# TYPE OF INHERITANCE\n",
    "\n",
    "<img src=\"7.png\">\n",
    "ada 4 jenis inheritance\n",
    "\n",
    "1. Default: property, property dan method\n",
    "\n",
    "    class Fish: \n",
    "        def __init__(self, first_name, last_name=\"Fish\", skeleton=\"bone\", eyelids=False): \n",
    "            self.first_name = first_name \n",
    "            self.last_name = last_name \n",
    "            self.skeleton = skeleton \n",
    "            self.eyelids = eyelids \n",
    "        def swim(self): \n",
    "            print(\"The fish is swimming.\") \n",
    "        def swim_backwards(self): \n",
    "            print(\"The fish can swim backwards.\"\n",
    "     class Trout (Fish): \n",
    "        pass \n",
    "     class Clownfish(Fish): \n",
    "        def live_with_anemone(self): \n",
    "            print(\"The clownfish is coexisting with sea anemone.\") \n",
    "\n",
    "2.Overriding: property/method, property dan method\n",
    "\n",
    "    class Fish: \n",
    "        def __init__(self, first_name, last_name=\"Fish\", skeleton=\"bone\", eyelids=False): \n",
    "            self.first_name = first_name \n",
    "            self.last_name = last_name \n",
    "            self.skeleton = skeleton \n",
    "            self.eyelids = eyelids \n",
    "        def swim(self): \n",
    "            print(\"The fish is swimming.\") \n",
    "        def swim_backwards(self): \n",
    "            print(\"The fish can swim backwards.\") \n",
    "   \n",
    "    class Shark(Fish): \n",
    "        def __init__(self, first_name, last_name=\"Shark\", skeleton=\"cartilage\", eyelids=True): \n",
    "            self.first_name = first_name \n",
    "            self.last_name = last_name \n",
    "            self.skeleton = skeleton \n",
    "            self.eyelids = eyelids \n",
    "        def swim_backwards(self): \n",
    "            print(\"The shark cannot swim backwards, but can sink backwards.\") \n",
    "\n",
    "3.Super: property\n",
    "\n",
    "    class Trout(Fish):\n",
    "            def __init__(self,water,first_name, last_name,skeleton,eyelids):\n",
    "            self.water = water\n",
    "            Fish.__init__(self,first_name, last_name,skeleton, eyelids)\n",
    "            super().__init__(self,first_name, last_name,skeleton, eyelids)\n",
    "\n",
    "    terry = Trout(\"freshwater\",\"shark\",\"fish\",\"no bone\",\"true\")\n",
    "    print(terry.first_name)"
   ]
  },
  {
   "cell_type": "code",
   "execution_count": 11,
   "metadata": {},
   "outputs": [
    {
     "name": "stdout",
     "output_type": "stream",
     "text": [
      "nama saya fandy\n",
      "kode pegawai 123\n",
      "kode lokasi cabang 001\n"
     ]
    }
   ],
   "source": [
    "class orang:\n",
    "    def __init__(self,nama):\n",
    "        self.nama = nama\n",
    "    def tampilkan(self):\n",
    "        print(\"nama saya\",self.nama)\n",
    "        \n",
    "class karyawan(orang):\n",
    "    def __init__(self,kp,nama):\n",
    "        super().__init__(nama)\n",
    "        self.kodepegawai = kp\n",
    "    def tampilkan(self):\n",
    "        print(\"kode pegawai\",self.kodepegawai,)\n",
    "        \n",
    "class karyawancabang(karyawan):\n",
    "    def __init__(self,klc,kp,nama):\n",
    "        super().__init__(nama,kp)\n",
    "        self.kodelokasicabang = klc\n",
    "    def tampilkan(self):\n",
    "        print(\"kode lokasi cabang\",self.kodelokasicabang,)\n",
    "\n",
    "o1 = orang(\"fandy\")\n",
    "o1.tampilkan()\n",
    "o2 = karyawan(\"123\",\"fandy\")\n",
    "o2.tampilkan()\n",
    "o3 = karyawancabang(\"001\",\"fandy\",\"123\")\n",
    "o3.tampilkan()\n"
   ]
  },
  {
   "cell_type": "markdown",
   "metadata": {},
   "source": [
    "4. multiple\n",
    "\n",
    "    class Coral: \n",
    "        def community(self): \n",
    "            print(\"Coral lives in a community.\") \n",
    "\n",
    "    class Anemone: \n",
    "        def protect_clownfish(self): \n",
    "            print(\"The anemone is protecting the clownfish.\") \n",
    "\n",
    "    class CoralReef(Coral, Anemone): \n",
    "        pass \n",
    "      \n",
    "    great_barrier = CoralReef() \n",
    "    great_barrier.community() \n",
    "    great_barrier.protect_clownfish() \n",
    " "
   ]
  },
  {
   "cell_type": "markdown",
   "metadata": {},
   "source": [
    "# POLYMORPHISME\n",
    "\n",
    "<img src=\"5.png\">\n",
    "\n",
    "Polimorfisme didasarkan pada kata-kata Yunani\n",
    "Poli (banyak) dan morfisme (bentuk).\n",
    "Kami akan membuat struktur yang dapat mengambil atau menggunakan banyak bentuk objek."
   ]
  },
  {
   "cell_type": "code",
   "execution_count": 12,
   "metadata": {},
   "outputs": [
    {
     "name": "stdout",
     "output_type": "stream",
     "text": [
      "The shark's skeleton is made of cartilage.\n",
      "The clownfish's skeleton is made of bone.\n"
     ]
    }
   ],
   "source": [
    "class Shark():\n",
    "    def swim(self):\n",
    "        print(\"The shark is swimming.\")\n",
    "    def swim_backwards(self):\n",
    "        print(\"The shark cannot swim backwards, but can sink backwards.\")\n",
    "    def skeleton(self):\n",
    "        print(\"The shark's skeleton is made of cartilage.\")\n",
    "\n",
    "class Clownfish():\n",
    "    def swim(self):\n",
    "        print(\"The clownfish is swimming.\")\n",
    "    def swim_backwards(self):\n",
    "        print(\"The clownfish can swim backwards.\")\n",
    "    def skeleton(self):\n",
    "        print(\"The clownfish's skeleton is made of bone.\")\n",
    "\n",
    "sammy = Shark()\n",
    "sammy.skeleton()\n",
    "\n",
    "casey = Clownfish()\n",
    "casey.skeleton()"
   ]
  },
  {
   "cell_type": "markdown",
   "metadata": {},
   "source": [
    "ada banyak jenis polymorphisme\n",
    "\n",
    "1.Polymorphism with a Function\n",
    "membuat fungsi yang dapat mengambil objek apa pun, memungkinkan untuk polimorfisme."
   ]
  },
  {
   "cell_type": "code",
   "execution_count": 13,
   "metadata": {},
   "outputs": [
    {
     "name": "stdout",
     "output_type": "stream",
     "text": [
      "the shark's skeleton is made or cartilage\n",
      "the clownfish skeleton is made of bone\n",
      "the sharknis swimming\n",
      "the clown fish can swim backwards\n"
     ]
    }
   ],
   "source": [
    "class shark():\n",
    "    def swim(self):\n",
    "        print(\"the sharknis swimming\")\n",
    "        \n",
    "    def swim_backwards(self):\n",
    "        print(\"the shark cannot swim backwards, but can sink backwards\")\n",
    "        \n",
    "    def skeleton(self):\n",
    "        print(\"the shark's skeleton is made or cartilage\")\n",
    "        \n",
    "class clownfish():\n",
    "    def swim(self):\n",
    "        print(\"the clown fish can swim backwards\")\n",
    "        \n",
    "    def swim_backwards(self):\n",
    "        print(\"the clownfish can swim backwards\")\n",
    "        \n",
    "    def skeleton(self):\n",
    "        print(\"the clownfish skeleton is made of bone\")\n",
    "        \n",
    "sammy = shark()\n",
    "sammy.skeleton()\n",
    "casey = clownfish()\n",
    "casey.skeleton()\n",
    "\n",
    "def in_the_pacific(fish):\n",
    "    fish.swim()\n",
    "\n",
    "in_the_pacific(sammy)\n",
    "in_the_pacific(casey)\n",
    "\n",
    "#Objek casey disebut metode swim () didefinisikan dalam kelas Clownfish, dan objek sammy yang disebut metode swim () didefinisikan dalam kelas Shark."
   ]
  },
  {
   "cell_type": "code",
   "execution_count": 14,
   "metadata": {},
   "outputs": [
    {
     "name": "stdout",
     "output_type": "stream",
     "text": [
      "terryfish\n",
      "bone\n",
      "false\n",
      "the fish is swimming\n",
      "the fish can swim backwards\n",
      "caseyfish\n",
      "the fish is swimming\n",
      "the clown fish is coexisting with see anemone\n"
     ]
    }
   ],
   "source": [
    "class fish:\n",
    "    def __init__(self,first_name,last_name=\"fish\",skeleton=\"bone\",eyelids=\"false\"):\n",
    "        self.first_name = first_name\n",
    "        self.last_name = last_name\n",
    "        self.skeleton = skeleton\n",
    "        self.eyelids = eyelids\n",
    "    def swim(self):\n",
    "        print(\"the fish is swimming\")\n",
    "    def swim_backwards(self):\n",
    "        print(\"the fish can swim backwards\")\n",
    "class trout(fish):\n",
    "    pass\n",
    "class clownfish(fish):\n",
    "    def live_with_anemone(self):\n",
    "        print(\"the clown fish is coexisting with see anemone\")\n",
    "class trout(fish):\n",
    "    pass\n",
    "terry = trout(\"terry\")\n",
    "print(terry.first_name + \"\" + terry.last_name)\n",
    "print(terry.skeleton)\n",
    "print(terry.eyelids)\n",
    "terry.swim()\n",
    "terry.swim_backwards()\n",
    "casey = clownfish(\"casey\")\n",
    "print(casey.first_name + \"\" + casey.last_name)\n",
    "casey.swim()\n",
    "casey.live_with_anemone()       "
   ]
  },
  {
   "cell_type": "markdown",
   "metadata": {},
   "source": [
    "2. polymorphisme with method\n",
    "metode-metode ini dengan cara tanpa mengetahui atau tidak peduli apa tipe kelas dari masing-masing objek ini. Artinya, menggunakan metode ini secara polimorfik.\n"
   ]
  },
  {
   "cell_type": "code",
   "execution_count": 15,
   "metadata": {},
   "outputs": [
    {
     "name": "stdout",
     "output_type": "stream",
     "text": [
      "document1:show pdf contents!\n",
      "document2:show pdf contents!\n",
      "document3:show word contents\n"
     ]
    }
   ],
   "source": [
    "class document:\n",
    "    def __init__(self,name):\n",
    "        self.name = name\n",
    "    def show(self):\n",
    "        raise notimplementederror(\"subclass must implement abstract method\")\n",
    "class pdf(document):\n",
    "    def show(self):\n",
    "        return 'show pdf contents!'\n",
    "    \n",
    "class word(document):\n",
    "    def show(self):\n",
    "        return 'show word contents'\n",
    "\n",
    "document = [pdf('document1'),\n",
    "           pdf('document2'),\n",
    "           word('document3')]\n",
    "\n",
    "for document in document:\n",
    "    print(document.name + ':' + document.show())"
   ]
  },
  {
   "cell_type": "markdown",
   "metadata": {},
   "source": [
    "3. polymorphisme abstarct class\n",
    "kelas abstrak yang disebut dokumen. Kelas ini tidak memiliki implementasi tetapi mendefinisikan struktur (dalam bentuk fungsi) yang harus dimiliki semua bentuk.\n",
    "Jika kita mendefinisikan fungsi show () maka baik PdfDocument dan WordDocument harus memiliki fungsi show ()."
   ]
  },
  {
   "cell_type": "code",
   "execution_count": 16,
   "metadata": {},
   "outputs": [
    {
     "name": "stdout",
     "output_type": "stream",
     "text": [
      "bananatruck:truck driving slowly because heaavily loaded\n",
      "orangetruck:truck driving slowly because heaavily loaded\n",
      "23:sportscar driving\n"
     ]
    }
   ],
   "source": [
    "class car:\n",
    "    def __init__(self,name):\n",
    "        self.name = name\n",
    "    def drive(self):\n",
    "        raise notimplementederror(\"subclass must implement abstract method\")\n",
    "    def stop(self):\n",
    "        raise not implementederror(\"subclass must implement abstract method\")\n",
    "\n",
    "class sportscar(car):\n",
    "    def drive(self):\n",
    "        return 'sportscar driving'\n",
    "    def stop(self):\n",
    "        return 'sportscar braking'\n",
    "class truck(car):\n",
    "    def drive(self):\n",
    "        return 'truck driving slowly because heaavily loaded'\n",
    "    def stop(self):\n",
    "        return 'truck braking'\n",
    "    \n",
    "cars = [truck('bananatruck'),\n",
    "       truck('orangetruck'),\n",
    "       sportscar('23')]\n",
    "    \n",
    "for car in cars:\n",
    "    print(car.name + ':' + car.drive())\n",
    "    "
   ]
  },
  {
   "cell_type": "code",
   "execution_count": null,
   "metadata": {},
   "outputs": [],
   "source": []
  },
  {
   "cell_type": "markdown",
   "metadata": {},
   "source": [
    "# operator and method overloading\n",
    "\n",
    "<img src=\"2.png\">\n",
    "\n",
    "Operator Overloading berarti memberikan makna yang diperluas di luar makna operasional yang telah ditentukan sebelumnya. \n",
    "Misalnya operator + digunakan untuk menambahkan dua bilangan bulat serta menggabungkan dua string dan menggabungkan dua \n",
    "daftar. Ini dapat dicapai karena operator '+' kelebihan beban oleh kelas int dan kelas str. Anda mungkin telah \n",
    "memperhatikan bahwa operator atau fungsi bawaan yang sama menunjukkan perilaku yang berbeda untuk objek dari kelas \n",
    "yang berbeda, ini disebut Operator Overloading .\n",
    "\n",
    "<img src=\"3.png\">\n",
    "\n",
    "operator biner :\n",
    "\n",
    "    OPERATOR\t  METODE SIHIR\n",
    "    +\t      __add __ (mandiri, lainnya)\n",
    "    -\t      __sub __ (mandiri, lainnya)\n",
    "    *\t      __mul __ (mandiri, lainnya)\n",
    "    /\t      __truediv __  (mandiri, lainnya)\n",
    "    //\t      __floordiv __ (mandiri, lainnya)\n",
    "    %\t      __mod __  (mandiri, lainnya)\n",
    "    **\t      __pow __  (mandiri, lainnya)\n",
    "   \n",
    "    \n",
    "operator perbandingan :\n",
    "\n",
    "    OPERATOR\tMETODE SIHIR\n",
    "    <\t   __lt __ (mandiri, lainnya)\n",
    "    >\t   __gt __ (mandiri, lainnya)\n",
    "    <=\t   __le __ (mandiri, lainnya)\n",
    "    > =\t   __ge __ (mandiri, lainnya)\n",
    "    ==\t   __eq __ (mandiri, lainnya)\n",
    "    ! =\t   __ne __ (mandiri, lainnya)\n",
    "    \n",
    "operator penugasan :\n",
    "\n",
    "    OPERATOR\tMETODE SIHIR\n",
    "    - =\t    __isub __ (mandiri, lainnya)\n",
    "    + =  \t__iadd __ (mandiri, lainnya)\n",
    "    * = \t__imul __ (mandiri, lainnya)\n",
    "    / = \t__idiv __ (mandiri, lainnya)\n",
    "    //= \t__ifloordiv __ (mandiri, lainnya)\n",
    "    % = \t__imod __ (mandiri, lainnya)\n",
    "    **= \t__ipow __ (mandiri, lainnya)\n",
    "    \n",
    "Operator Unary :\n",
    "\n",
    "    OPERATOR\tMETODE SIHIR\n",
    "    -\t   __neg __ (mandiri, lainnya)\n",
    "    + \t   __pos __ (mandiri, lainnya)\n",
    "    ~\t   __invert __ (mandiri, lainnya)\n",
    "    \n",
    "Ketika kita menggunakan operator pada tipe data yang ditentukan pengguna maka secara otomatis fungsi khusus atau fungsi \n",
    "ajaib yang terkait dengan operator itu dipanggil. Mengubah perilaku operator semudah mengubah perilaku metode atau fungsi. \n",
    "Anda mendefinisikan metode di kelas Anda dan operator bekerja sesuai dengan perilaku yang didefinisikan dalam metode.\n",
    "Ketika kita menggunakan + operator, metode ajaib __add__ secara otomatis dipanggil di mana operasi untuk + operator \n",
    "didefinisikan. Di sana dengan mengubah kode metode ajaib ini, kita dapat memberikan makna ekstra kepada operator +.\n",
    "\n"
   ]
  },
  {
   "cell_type": "code",
   "execution_count": 2,
   "metadata": {},
   "outputs": [
    {
     "name": "stdout",
     "output_type": "stream",
     "text": [
      "(3, 5)\n"
     ]
    }
   ],
   "source": [
    "class Complex:\n",
    "    def __init__(self,a,b):\n",
    "        self.a = a\n",
    "        self.b = b\n",
    "    def __add__(self,other):\n",
    "        return self.a + other.a, self.b + other.b\n",
    "    def __str__(self):\n",
    "        return self.a,self.b\n",
    "Ob1 = Complex(1,2)\n",
    "Ob2 = Complex(2,3)\n",
    "Ob3 = Ob1 + Ob2\n",
    "print(Ob3)  "
   ]
  },
  {
   "cell_type": "code",
   "execution_count": null,
   "metadata": {},
   "outputs": [],
   "source": [
    "class Kelereng:\n",
    "    def __init__(self,merah,kuning):\n",
    "        self.kelerengmerah = merah\n",
    "        self.kelerengkuning = kuning\n",
    "    def __add__(self,other):\n",
    "        return self.kelerengmerah + other.kelerengmerah, self.kelerengkuning + other.kelerengkuning\n",
    "    def __sub__(self,other):\n",
    "        return self.kelerengmerah - other.kelerengmerah, self.kelerengkuning - other.kelerengkuning\n",
    "    def __mul__(self,other):\n",
    "        return self.kelerengmerah * other.kelerengmerah, self.kelerengkuning * other.kelerengkuning\n",
    "    def __truediv__(self,other):\n",
    "        return self.kelerengmerah / other.kelerengmerah, self.kelerengkuning / other.kelerengkuning\n",
    "    def __mod__(self,other):\n",
    "        return self.kelerengmerah % other.kelerengmerah, self.kelerengkuning % other.kelerengkuning\n",
    "        \n",
    "kelereng1 = Kelereng(20,8)\n",
    "kelereng2 = Kelereng(7,3)\n",
    "print(\"Hasil penjumlahan adalah\",kelereng1+kelereng2)\n",
    "print(\"Hasil pengurangan adalah\",kelereng1-kelereng2)\n",
    "print(\"Hasil perkalian adalah\",kelereng1*kelereng2)\n",
    "print(\"Hasil pembagian adalah\",kelereng1/kelereng2)\n",
    "print(\"Hasil sisa pembagian adalah\",kelereng1%kelereng)"
   ]
  },
  {
   "attachments": {},
   "cell_type": "markdown",
   "metadata": {},
   "source": [
    "# encapsulation\n",
    "\n",
    "<img src=\"4.png\">\n",
    "\n",
    "Satu garis bawah: Variabel pribadi, tidak boleh diakses secara langsung. Tetapi tidak ada yang menghentikan Anda dari melakukan itu (kecuali konvensi).\n",
    "Garis bawah ganda: Variabel pribadi, lebih sulit diakses tetapi masih memungkinkan.\n",
    "\n",
    "\n",
    "Variabel objek tidak harus selalu dapat diakses secara langsung. Untuk mencegah perubahan yang tidak disengaja, variabel objek terkadang hanya dapat diubah dengan metode objek. Jenis variabel tersebut adalah variabel pribadi.\n",
    "Metode dapat memastikan nilai yang benar diatur. Jika nilai yang salah diatur, metode ini dapat mengembalikan kesalahan.\n",
    "\n",
    "Contoh enkapsulasi\n",
    "Python tidak memiliki kata kunci pribadi, tidak seperti beberapa bahasa berorientasi objek lainnya, tetapi enkapsulasi dapat dilakukan.\n",
    "\n",
    "Sebagai gantinya, ia bergantung pada konvensi: variabel kelas yang tidak boleh diakses secara langsung harus diawali dengan garis bawah.\n",
    "\n",
    "  Robot kelas (objek) : \n",
    "      def __init__ (mandiri) : \n",
    "      self.a = 123 \n",
    "      self._b = 123 \n",
    "      diri .__ c = 123 \n",
    "\n",
    "  obj = Robot () \n",
    "  print (obj.a) \n",
    "  print (obj._b) \n",
    "  print (obj .__ c) \n",
    "  \n",
    "Jika Anda menjalankan program, Anda melihat: \n",
    "\n",
    "  123 \n",
    "  123 \n",
    "  Traceback (panggilan terakhir terakhir): \n",
    "  File \"test.py\" , baris 10 , di modul & lt; & gt; \n",
    "  print (obj .__ c) \n",
    "  AttributeError: 'Robot' objek tidak memiliki atribut '__c' \n",
    "  \n",
    "Jadi ada apa dengan garis bawah dan kesalahan?\n",
    "\n",
    "Satu garis bawah: Variabel pribadi, tidak boleh diakses secara langsung. Tetapi tidak ada yang menghentikan dari melakukan itu (kecuali konvensi).\n",
    "\n",
    "Garis bawah ganda: Variabel pribadi, lebih sulit diakses tetapi masih memungkinkan.\n",
    "\n",
    "Keduanya masih dapat diakses: Python memiliki variabel pribadi berdasarkan konvensi.\n",
    "\n",
    "Getters dan setter\n",
    "Variabel pribadi dimaksudkan untuk diubah menggunakan metode pengambil dan penyetel. Ini memberikan akses tidak langsung kepada mereka:\n",
    "\n",
    "  Robot kelas (objek) : \n",
    "  def __init__ (mandiri) : \n",
    "  diri .__ versi = 22 \n",
    "\n",
    "  def getVersion (diri) : \n",
    "  print (self .__ versi) \n",
    "\n",
    "  def setVersion (self, version) : \n",
    "  diri .__ versi = versi \n",
    "\n",
    "  obj = Robot () \n",
    "  obj.getVersion () \n",
    "  obj.setVersion ( 23 ) \n",
    "  obj.getVersion () \n",
    "  print (obj .__ versi) \n",
    "  \n",
    "Ini kemudian menampilkan nilai variabel: \n",
    "\n",
    "  22 \n",
    "  23 \n",
    "Kelas dengan atribut dan metode pribadi\n"
   ]
  },
  {
   "cell_type": "markdown",
   "metadata": {},
   "source": [
    "\n",
    "#Satu garis bawah: Variabel pribadi, tidak boleh diakses secara langsung.Tetapi tidak ada yang menghentikan Anda dari melakukan itu (kecuali konvensi).\n",
    "#Garis bawah ganda: Variabel pribadi, lebih sulit diakses tetapi masih memungkinkan.\n"
   ]
  },
  {
   "cell_type": "code",
   "execution_count": null,
   "metadata": {},
   "outputs": [],
   "source": [
    "#private methods\n",
    "\n",
    "class Car:\n",
    "\n",
    "    def __init__(self):\n",
    "        self.__updateSoftware()\n",
    "\n",
    "    def drive(self):\n",
    "        print('driving')\n",
    "\n",
    "    def __updateSoftware(self):\n",
    "        print('updating software')\n",
    "\n",
    "redcar = Car()\n",
    "redcar.drive()\n",
    "#redcar.__updateSoftware()  not accesible from object.\n"
   ]
  },
  {
   "cell_type": "code",
   "execution_count": 3,
   "metadata": {},
   "outputs": [
    {
     "name": "stdout",
     "output_type": "stream",
     "text": [
      "22\n",
      "23\n",
      "23\n"
     ]
    }
   ],
   "source": [
    "#private metho\n",
    "class robot(object):\n",
    "    def __init__(self):\n",
    "        self.__version=22\n",
    "        \n",
    "    def getversion(self):\n",
    "        print(self.__version)\n",
    "    \n",
    "    def setversion(self,version):\n",
    "        self.__version = version\n",
    "\n",
    "obj=robot()\n",
    "obj.getversion()\n",
    "obj.setversion(23)\n",
    "obj.getversion()\n",
    "print(obj._robot__version)\n"
   ]
  },
  {
   "cell_type": "code",
   "execution_count": 4,
   "metadata": {},
   "outputs": [
    {
     "name": "stdout",
     "output_type": "stream",
     "text": [
      "this is a public method\n",
      "this is a private method\n",
      "this is another private method\n"
     ]
    }
   ],
   "source": [
    "class A(object):\n",
    "    #public method\n",
    "    def mypublicmethod(self):\n",
    "        return\"this is a public method\"\n",
    "    \n",
    "    #private method with_singleunderscore\n",
    "    def _myprivatemethod(self):\n",
    "        return\"this is a private method\"\n",
    "    \n",
    "    #private method with double__underscore\n",
    "    def __myanotherprivatemethod(self):\n",
    "        return\"this is another private method\"\n",
    "    \n",
    "#nama object\n",
    "obj=A()\n",
    "#we can acces the public method which is cool\n",
    "print(obj.mypublicmethod()) #output : this is a public method\n",
    "#note that we can also acces the private method from outside\n",
    "print(obj._myprivatemethod())#this is a private method\n",
    "#how ever wecan also\n",
    "print(obj._A__myanotherprivatemethod())#output:this is another private method\n"
   ]
  },
  {
   "cell_type": "code",
   "execution_count": 5,
   "metadata": {},
   "outputs": [
    {
     "name": "stdout",
     "output_type": "stream",
     "text": [
      "driving.maxspeed200\n"
     ]
    }
   ],
   "source": [
    "class car:\n",
    "    __maxspeed=0\n",
    "    __name=\"\"\n",
    "    \n",
    "    def __init__(self):\n",
    "        self.__maxspeed = 200\n",
    "        self.__name=\"supercar\"\n",
    "    def drive(self):\n",
    "        print(\"driving.maxspeed\"+str(self.__maxspeed))\n",
    "    def a(self,spit):\n",
    "        self.__maxspeed=spit\n",
    "        \n",
    "redcar=car()\n",
    "redcar.drive()\n",
    "redcar.a(10)"
   ]
  },
  {
   "cell_type": "code",
   "execution_count": null,
   "metadata": {},
   "outputs": [],
   "source": []
  }
 ],
 "metadata": {
  "kernelspec": {
   "display_name": "Python 3",
   "language": "python",
   "name": "python3"
  },
  "language_info": {
   "codemirror_mode": {
    "name": "ipython",
    "version": 3
   },
   "file_extension": ".py",
   "mimetype": "text/x-python",
   "name": "python",
   "nbconvert_exporter": "python",
   "pygments_lexer": "ipython3",
   "version": "3.7.1"
  }
 },
 "nbformat": 4,
 "nbformat_minor": 2
}
